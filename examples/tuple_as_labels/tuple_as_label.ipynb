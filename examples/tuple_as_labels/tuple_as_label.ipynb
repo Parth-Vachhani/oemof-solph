{
 "cells": [
  {
   "cell_type": "markdown",
   "metadata": {},
   "source": [
    "This aims to be a tutorial for beginners that already introduces cocepts that until\n",
    "now are mostly used by experienced users."
   ]
  },
  {
   "cell_type": "markdown",
   "metadata": {},
   "source": [
    "First, we define an energy system. Note that solph expects time points for its index.\n",
    "Time intervals are defined between the points in time.\n",
    "If your pints in time have a regular pattern, you can (at your option) infer the last interval.\n",
    "Typically, it's better to explicitly give N+1 points in time to define N time intervals."
   ]
  },
  {
   "cell_type": "code",
   "execution_count": null,
   "metadata": {},
   "outputs": [],
   "source": [
    "from oemof import solph\n",
    "\n",
    "n_time_points = 25\n",
    "time_index = solph.create_time_index(2024, number=n_time_points)\n",
    "\n",
    "energy_system = solph.EnergySystem(\n",
    "    timeindex=time_index,\n",
    "    infer_last_interval=False,\n",
    ")"
   ]
  },
  {
   "cell_type": "markdown",
   "metadata": {},
   "source": [
    "The energy system is modelled as a mathematcal graph.\n",
    "Often, `Bus`es are used to model commodities.\n",
    "These are then connected by `Converter`s and to storages.\n",
    "Each of these nodes needs a unique label to be identified.\n",
    "Edges are directed and identified by the Nodes they connect to.\n",
    "\n",
    "Many users use strings as labels.\n",
    "However, as energy systems become complex, keeping track of all the information can be hard.\n",
    "In particular, manually managing string labels can be tedious.\n",
    "Here, it comes handy that `Node`s (defined in oemof.network) accept every hashable type.\n",
    "\n",
    "A custom string representation is advised as the defauls (including type names) can be very long.\n",
    "But labels should be easy to understand."
   ]
  },
  {
   "cell_type": "code",
   "execution_count": null,
   "metadata": {},
   "outputs": [],
   "source": [
    "from typing import NamedTuple\n",
    "from enum import IntEnum\n",
    "\n",
    "# A frozenset is an immutable set.\n",
    "# Set: Ever sector present only once.\n",
    "# Imutable:\n",
    "#    - sectors cannot be changed\n",
    "#    - makes the class hashable\n",
    "class Label(NamedTuple):\n",
    "    location: str\n",
    "    sectors: frozenset[int]\n",
    "    component: str\n",
    "\n",
    "    def __str__(self):\n",
    "        return f\"{self.location}/{sum(int(s) for s in self.sectors)}/{self.component}\"\n"
   ]
  },
  {
   "cell_type": "markdown",
   "metadata": {},
   "source": [
    "For the sectors, we create an Enum.\n",
    "Enums are very useful to make sure, only predefined values are used.\n",
    "This, e.g. prevents typos staying unnoticed.\n",
    "The IntEnum in the example is defined in a way that any combination of sectors gives a unique ID.\n",
    "This is a bit C-Style low-level encoding but can be useful, e.g. when saving the info to a file."
   ]
  },
  {
   "cell_type": "code",
   "execution_count": null,
   "metadata": {},
   "outputs": [],
   "source": [
    "\n",
    "class Sectors(IntEnum):\n",
    "    ELECTRICITY = 1\n",
    "    HEAT = 2\n",
    "    HYDROGEN = 4\n"
   ]
  },
  {
   "cell_type": "markdown",
   "metadata": {},
   "source": [
    "The Label above needs a frozenset.\n",
    "To freeze sets in the background, we create a factory function."
   ]
  },
  {
   "cell_type": "code",
   "execution_count": null,
   "metadata": {},
   "outputs": [],
   "source": [
    "\n",
    "def label(\n",
    "    location: str,\n",
    "    sectors: set[int],\n",
    "    component: str,\n",
    ") -> Label:\n",
    "    return Label(location, frozenset(sectors),component)"
   ]
  },
  {
   "cell_type": "markdown",
   "metadata": {},
   "source": [
    "We now populate the energy system. It consists of several houses and a grid.\n",
    "Let's start with the grid, as every house should be able to connect to it.\n",
    "(Note that some of the functionality does ot rely on storing information in the label.\n",
    "It could be placed elsewhere. However, it is convenient as you will see soon.)"
   ]
  },
  {
   "cell_type": "code",
   "execution_count": null,
   "metadata": {},
   "outputs": [],
   "source": [
    "location=\"grid\"\n",
    "\n",
    "b_el_grid = solph.Bus(label(location, {Sectors.ELECTRICITY}, \"Bus\"))\n",
    "energy_system.add(b_el_grid)\n",
    "\n",
    "energy_system.add(\n",
    "    solph.components.Source(\n",
    "        label(location, {Sectors.ELECTRICITY}, \"grid_connection\"),\n",
    "        outputs={b_el_grid: solph.Flow(variable_costs=0.4)},\n",
    "        # custom_attributes={\"sectors\": {Sectors.ELECTRICITY}}\n",
    "    )\n",
    ")\n"
   ]
  },
  {
   "cell_type": "markdown",
   "metadata": {},
   "source": [
    "The houses start with an identical base: One Bus for electricity and one for heat.\n",
    "Note that the busses are just called \"Bus\"."
   ]
  },
  {
   "cell_type": "code",
   "execution_count": null,
   "metadata": {},
   "outputs": [],
   "source": [
    "\n",
    "locations = [\"house_1\", \"house_2\"]\n",
    "\n",
    "for number, location in enumerate(locations):\n",
    "    b_el = solph.Bus(\n",
    "        label(location, {Sectors.ELECTRICITY}, \"Bus\"),\n",
    "        inputs={b_el_grid: solph.Flow()},\n",
    "        outputs={b_el_grid: solph.Flow()},\n",
    "    )\n",
    "    b_heat = solph.Bus(label(location, {Sectors.HEAT}, \"Bus\"))\n",
    "\n",
    "    energy_system.add(b_el, b_heat)\n",
    "\n",
    "    energy_system.add(\n",
    "        solph.components.Sink(\n",
    "            label(location, {Sectors.HEAT}, \"Demand\"),\n",
    "            inputs={b_heat: solph.Flow(nominal_value=1, fix=2*(1 + number * 0.1))},\n",
    "        )\n",
    "    )\n",
    "\n",
    "    cop = 3\n",
    "    energy_system.add(\n",
    "        solph.components.Converter(\n",
    "            label(location, {Sectors.ELECTRICITY, Sectors.HEAT}, \"heat_pump\"),\n",
    "            inputs={b_el: solph.Flow()},\n",
    "            outputs={b_heat: solph.Flow()},\n",
    "            conversion_factors={b_el: 1 / cop},\n",
    "        )\n",
    "    )\n"
   ]
  },
  {
   "cell_type": "markdown",
   "metadata": {},
   "source": [
    "Now, we can add custom features to the houses.\n",
    "House 1 receives additional demand for domestic hot water.\n",
    "Note that we access the electricity bus using its label.\n",
    "(The functionality will stay in oemof.network, however, the API is experimental.)"
   ]
  },
  {
   "cell_type": "code",
   "execution_count": null,
   "metadata": {},
   "outputs": [],
   "source": [
    "location = \"house_1\"\n",
    "\n",
    "b_dhw = solph.Bus(label(location, {Sectors.HEAT}, \"Bus_DHW\"))\n",
    "energy_system.add(b_dhw)\n",
    "\n",
    "energy_system.add(\n",
    "    solph.components.Sink(\n",
    "        label(location, {Sectors.HEAT}, \"DHW_Demand\"),\n",
    "        inputs={b_dhw: solph.Flow(\n",
    "            nominal_value=1,\n",
    "            fix=6*[0] + 1*[2] + 18*[0],\n",
    "        )},\n",
    "    )\n",
    ")\n",
    "\n",
    "b_el = energy_system.node[label(location, {Sectors.ELECTRICITY}, \"Bus\")]\n",
    "energy_system.add(\n",
    "    solph.components.Converter(\n",
    "        label(location, {Sectors.ELECTRICITY, Sectors.HEAT}, \"flow_heater\"),\n",
    "        inputs={b_el: solph.Flow()},\n",
    "        outputs={b_dhw: solph.Flow()},\n",
    "    )\n",
    ")"
   ]
  },
  {
   "cell_type": "markdown",
   "metadata": {},
   "source": [
    "House 2 gets a PV system. Let's read in some data."
   ]
  },
  {
   "cell_type": "code",
   "execution_count": null,
   "metadata": {},
   "outputs": [],
   "source": [
    "import pandas as pd\n",
    "\n",
    "pv_data = pd.read_csv(\n",
    "    \"tuple_as_label.csv\",\n",
    "    usecols=[2],\n",
    ").head(n_time_points)[\"pv\"]"
   ]
  },
  {
   "cell_type": "markdown",
   "metadata": {},
   "source": [
    "Instead of adding an excess think, we set the maximum possible Flow."
   ]
  },
  {
   "cell_type": "code",
   "execution_count": null,
   "metadata": {},
   "outputs": [],
   "source": [
    "energy_system.add(\n",
    "    solph.components.Source(\n",
    "        label(\"house_2\", {Sectors.ELECTRICITY}, \"PV\"),\n",
    "        outputs={\n",
    "            energy_system.node[label(\"house_2\", {Sectors.ELECTRICITY}, \"Bus\")]:\n",
    "                solph.Flow(nominal_value=20, max=pv_data),\n",
    "        },\n",
    "    )\n",
    ")"
   ]
  },
  {
   "cell_type": "markdown",
   "metadata": {},
   "source": [
    "Before we optimise the proble, we visually check the graph."
   ]
  },
  {
   "cell_type": "code",
   "execution_count": null,
   "metadata": {},
   "outputs": [],
   "source": [
    "import networkx as nx\n",
    "from oemof.network.graph import create_nx_graph\n",
    "\n",
    "graph = create_nx_graph(energy_system)\n",
    "\n",
    "nx.draw(graph, with_labels=True, font_size=8)"
   ]
  },
  {
   "cell_type": "code",
   "execution_count": null,
   "metadata": {},
   "outputs": [],
   "source": [
    "model = solph.Model(energy_system)\n",
    "model.solve(solver=\"cbc\", solve_kwargs={\"tee\": False})\n",
    "results = solph.processing.results(model)"
   ]
  },
  {
   "cell_type": "code",
   "execution_count": null,
   "metadata": {},
   "outputs": [],
   "source": [
    "import pandas as pd\n",
    "\n",
    "flows_to_heat = pd.DataFrame({\n",
    "    f\"{k[0].label.location}-{k[0].label.component}\": v[\"sequences\"][\"flow\"]\n",
    "    for k, v in results.items()\n",
    "    if (\n",
    "        isinstance(k[1], solph.Bus)\n",
    "        and Sectors.HEAT in k[1].label.sectors\n",
    "    )\n",
    "})\n",
    "\n",
    "heat_demand = pd.DataFrame({\n",
    "    f\"{k[0].label.location}-{k[1].label.component}\": v[\"sequences\"][\"flow\"]\n",
    "    for k, v in results.items()\n",
    "    if isinstance(k[1], solph.components.Sink)\n",
    "})\n",
    "\n",
    "heat_flows = pd.concat(\n",
    "    [flows_to_heat, heat_demand],\n",
    "    axis=1,\n",
    ")"
   ]
  },
  {
   "cell_type": "code",
   "execution_count": null,
   "metadata": {},
   "outputs": [],
   "source": [
    "import matplotlib.pyplot as plt\n",
    "\n",
    "heat_flows.plot(drawstyle=\"steps-post\")\n",
    "\n",
    "plt.show()"
   ]
  },
  {
   "cell_type": "code",
   "execution_count": null,
   "metadata": {},
   "outputs": [],
   "source": [
    "electricity_sources = pd.DataFrame({\n",
    "    f\"{k[0].label.location}-{k[0].label.component}\": v[\"sequences\"][\"flow\"]\n",
    "    for k, v in results.items()\n",
    "    if isinstance(k[0], solph.components.Source)\n",
    "    and Sectors.ELECTRICITY in k[0].label.sectors\n",
    "})\n",
    "\n",
    "electricity_sources.plot(drawstyle=\"steps-post\")\n",
    "\n",
    "plt.show()"
   ]
  }
 ],
 "metadata": {
  "kernelspec": {
   "display_name": "venv",
   "language": "python",
   "name": "python3"
  },
  "language_info": {
   "codemirror_mode": {
    "name": "ipython",
    "version": 3
   },
   "file_extension": ".py",
   "mimetype": "text/x-python",
   "name": "python",
   "nbconvert_exporter": "python",
   "pygments_lexer": "ipython3",
   "version": "3.11.6"
  }
 },
 "nbformat": 4,
 "nbformat_minor": 2
}
